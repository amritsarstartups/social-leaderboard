{
 "cells": [
  {
   "cell_type": "code",
   "execution_count": 1,
   "metadata": {
    "collapsed": false
   },
   "outputs": [
    {
     "ename": "IndentationError",
     "evalue": "expected an indented block (<ipython-input-1-c80b5ddb64a4>, line 23)",
     "output_type": "error",
     "traceback": [
      "\u001b[0;36m  File \u001b[0;32m\"<ipython-input-1-c80b5ddb64a4>\"\u001b[0;36m, line \u001b[0;32m23\u001b[0m\n\u001b[0;31m    def calculate_stats():\u001b[0m\n\u001b[0m                          ^\u001b[0m\n\u001b[0;31mIndentationError\u001b[0m\u001b[0;31m:\u001b[0m expected an indented block\n"
     ]
    }
   ],
   "source": [
    "import pymongo\n",
    "import os\n",
    "\n",
    "db_url = os.environ['SBCON_DB']\n",
    "\n",
    "\n",
    "def fetch_collection(collection):\n",
    "\tclient = pymongo.MongoClient(db_url)\n",
    "\tdb = client.get_default_database()\n",
    "\tcoll = db[collection]\n",
    "\tdata = []\n",
    "\tfor i in coll.find():\n",
    "\t\tdata.append(i)\n",
    "\tclient.close()\n",
    "\treturn data\n",
    "\n",
    "# def match_user_with_dumps(team):\n",
    "# \tpost_bucket = []\n",
    "# \tfor m in team['members']:\n",
    "\t\t\n",
    "\n",
    "\n",
    "def calculate_stats():\n",
    "\traw_tweet = fetch_collection(\"tweets_dump\")\n",
    "\traw_insta = fetch_collection(\"insta_dump\")\n",
    "\tteams = fetch_collection(\"teams\")\n",
    "\n",
    "\tstats = []\n",
    "\t\n",
    "\tfor t in teams[:1]:\n",
    "\t\tprint(t['_id'])\n",
    "\n",
    "\n",
    "if __name__ == \"__main__\":\n",
    "\tcalculate_stats()\n",
    "\tprint(fetch_collection(\"tweets_dump\"))\n",
    "\t# print(fetch_collection(\"insta_dump\"))\n",
    "\t# print(fetch_collection('teams'))\n"
   ]
  }
 ],
 "metadata": {
  "kernelspec": {
   "display_name": "Python 3",
   "language": "python",
   "name": "python3"
  },
  "language_info": {
   "codemirror_mode": {
    "name": "ipython",
    "version": 3
   },
   "file_extension": ".py",
   "mimetype": "text/x-python",
   "name": "python",
   "nbconvert_exporter": "python",
   "pygments_lexer": "ipython3",
   "version": "3.5.3"
  }
 },
 "nbformat": 4,
 "nbformat_minor": 2
}
